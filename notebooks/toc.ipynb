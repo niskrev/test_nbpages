{
 "cells": [
  {
   "cell_type": "markdown",
   "metadata": {},
   "source": [
    "# [test_nbpages](https://niskrev.github.io/test_nbpages)\n",
    "\n",
    "\n",
    "## [Chapter 1.0 Examples](http://nbviewer.jupyter.org/github/niskrev/test_nbpages/blob/master/notebooks/01.00-Examples.ipynb)\n",
    "- [Repositories using nbpages](http://nbviewer.jupyter.org/github/niskrev/test_nbpages/blob/master/notebooks/01.00-Examples.ipynb#Repositories-using-nbpages)\n",
    "* Links\n",
    "    - [CBE 20255 Introduction to Chemical Engineering Analysis](http://jckantor.github.io/CBE20255/)\n",
    "    - [CBE 30338 Chemical Process Control](http://jckantor.github.io/CBE30338/)\n",
    "    - [CBE 40455 Process Operations](http://jckantor.github.io/CBE40455/)\n",
    "    - [ND Pyomo Cookbook](https://jckantor.github.io/ND-Pyomo-Cookbook/)\n",
    "    - [nbpages](https://jckantor.github.io/nbpages/)\n",
    "    - [Controlling Natural Watersheds](https://jckantor.github.io/Controlling-Natural-Watersheds/)"
   ]
  }
 ],
 "metadata": {},
 "nbformat": 4,
 "nbformat_minor": 4
}
