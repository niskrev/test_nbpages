{
 "cells": [
  {
   "cell_type": "markdown",
   "metadata": {},
   "source": [
    "# [test_nbpages](https://niskrev.github.io/test_nbpages)\n",
    "\n",
    "\n",
    "## [Chapter 1.0 Examples](http://nbviewer.jupyter.org/github/niskrev/test_nbpages/blob/master/notebooks/01.00-Examples.ipynb)\n",
    "- [Repositories using nbpages](http://nbviewer.jupyter.org/github/niskrev/test_nbpages/blob/master/notebooks/01.00-Examples.ipynb#Repositories-using-nbpages)\n",
    "* Links\n",
    "    - [CBE 20255 Introduction to Chemical Engineering Analysis](http://jckantor.github.io/CBE20255/)\n",
    "    - [CBE 30338 Chemical Process Control](http://jckantor.github.io/CBE30338/)\n",
    "    - [CBE 40455 Process Operations](http://jckantor.github.io/CBE40455/)\n",
    "    - [ND Pyomo Cookbook](https://jckantor.github.io/ND-Pyomo-Cookbook/)\n",
    "    - [nbpages](https://jckantor.github.io/nbpages/)\n",
    "    - [Controlling Natural Watersheds](https://jckantor.github.io/Controlling-Natural-Watersheds/)\n",
    "\n",
    "### [1.1 Working with Data and Figures](http://nbviewer.jupyter.org/github/niskrev/test_nbpages/blob/master/notebooks/01.01-Working-with-Data-and-Figures.ipynb)\n",
    "- [Importing data](http://nbviewer.jupyter.org/github/niskrev/test_nbpages/blob/master/notebooks/01.01-Working-with-Data-and-Figures.ipynb#Importing-data)\n",
    "- [Creating and saving figures](http://nbviewer.jupyter.org/github/niskrev/test_nbpages/blob/master/notebooks/01.01-Working-with-Data-and-Figures.ipynb#Creating-and-saving-figures)"
   ]
  }
 ],
 "metadata": {},
 "nbformat": 4,
 "nbformat_minor": 4
}
